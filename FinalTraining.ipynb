{
 "cells": [
  {
   "cell_type": "code",
   "execution_count": 59,
   "id": "e12c9443-ef6e-4eb3-8544-d7194c941363",
   "metadata": {},
   "outputs": [
    {
     "name": "stdout",
     "output_type": "stream",
     "text": [
      "2.8.0\n"
     ]
    }
   ],
   "source": [
    "import numpy as np\n",
    "import os\n",
    "import sys\n",
    "import tensorflow as tf\n",
    "from tensorflow.keras import models, layers\n",
    "from tensorflow.keras.preprocessing.image import ImageDataGenerator\n",
    "from tensorflow.keras.preprocessing import image\n",
    "from tensorflow.keras.preprocessing.image import img_to_array\n",
    "from tensorflow.keras import backend as K\n",
    "# from tensorflow.python.keras.layers import Dense\n",
    "import matplotlib.pyplot as plt\n",
    "print(tf.__version__)"
   ]
  },
  {
   "cell_type": "code",
   "execution_count": 60,
   "id": "5bf7f9ea-6a07-4bb1-9bb8-309490cebf1f",
   "metadata": {},
   "outputs": [
    {
     "name": "stdout",
     "output_type": "stream",
     "text": [
      "Num GPUs Available:  1\n"
     ]
    }
   ],
   "source": [
    "\n",
    "print(\"Num GPUs Available: \", len(tf.config.list_physical_devices('GPU')))"
   ]
  },
  {
   "cell_type": "code",
   "execution_count": 61,
   "id": "9b78b0c2-935e-41ab-92e3-4abc595dea92",
   "metadata": {},
   "outputs": [],
   "source": [
    "IMAGE_SIZE = 256\n",
    "CHANNELS = 3"
   ]
  },
  {
   "cell_type": "code",
   "execution_count": 62,
   "id": "ce5b341a-735f-4392-921f-165178219400",
   "metadata": {},
   "outputs": [
    {
     "name": "stdout",
     "output_type": "stream",
     "text": [
      "Found 70295 images belonging to 38 classes.\n"
     ]
    }
   ],
   "source": [
    "train_datagen = ImageDataGenerator(\n",
    "        rescale=1./255,\n",
    "        rotation_range=10,\n",
    "        horizontal_flip=True\n",
    ")\n",
    "train_generator = train_datagen.flow_from_directory(\n",
    "        'Desktop/leafDetectionNew/finalDataset/New Plant Diseases Dataset(Augmented)/New Plant Diseases Dataset(Augmented)/train',\n",
    "        target_size=(IMAGE_SIZE,IMAGE_SIZE),\n",
    "        batch_size=32,\n",
    "        class_mode=\"sparse\",\n",
    "#         save_to_dir=\"C:\\\\Code\\\\potato-disease-classification\\\\training\\\\AugmentedImages\"\n",
    ")"
   ]
  },
  {
   "cell_type": "code",
   "execution_count": 63,
   "id": "5d42c059-f8c8-44ad-9f6f-38a7db494ec9",
   "metadata": {},
   "outputs": [
    {
     "data": {
      "text/plain": [
       "{'Apple___Apple_scab': 0,\n",
       " 'Apple___Black_rot': 1,\n",
       " 'Apple___Cedar_apple_rust': 2,\n",
       " 'Apple___healthy': 3,\n",
       " 'Blueberry___healthy': 4,\n",
       " 'Cherry_(including_sour)___Powdery_mildew': 5,\n",
       " 'Cherry_(including_sour)___healthy': 6,\n",
       " 'Corn_(maize)___Cercospora_leaf_spot Gray_leaf_spot': 7,\n",
       " 'Corn_(maize)___Common_rust_': 8,\n",
       " 'Corn_(maize)___Northern_Leaf_Blight': 9,\n",
       " 'Corn_(maize)___healthy': 10,\n",
       " 'Grape___Black_rot': 11,\n",
       " 'Grape___Esca_(Black_Measles)': 12,\n",
       " 'Grape___Leaf_blight_(Isariopsis_Leaf_Spot)': 13,\n",
       " 'Grape___healthy': 14,\n",
       " 'Orange___Haunglongbing_(Citrus_greening)': 15,\n",
       " 'Peach___Bacterial_spot': 16,\n",
       " 'Peach___healthy': 17,\n",
       " 'Pepper,_bell___Bacterial_spot': 18,\n",
       " 'Pepper,_bell___healthy': 19,\n",
       " 'Potato___Early_blight': 20,\n",
       " 'Potato___Late_blight': 21,\n",
       " 'Potato___healthy': 22,\n",
       " 'Raspberry___healthy': 23,\n",
       " 'Soybean___healthy': 24,\n",
       " 'Squash___Powdery_mildew': 25,\n",
       " 'Strawberry___Leaf_scorch': 26,\n",
       " 'Strawberry___healthy': 27,\n",
       " 'Tomato___Bacterial_spot': 28,\n",
       " 'Tomato___Early_blight': 29,\n",
       " 'Tomato___Late_blight': 30,\n",
       " 'Tomato___Leaf_Mold': 31,\n",
       " 'Tomato___Septoria_leaf_spot': 32,\n",
       " 'Tomato___Spider_mites Two-spotted_spider_mite': 33,\n",
       " 'Tomato___Target_Spot': 34,\n",
       " 'Tomato___Tomato_Yellow_Leaf_Curl_Virus': 35,\n",
       " 'Tomato___Tomato_mosaic_virus': 36,\n",
       " 'Tomato___healthy': 37}"
      ]
     },
     "execution_count": 63,
     "metadata": {},
     "output_type": "execute_result"
    }
   ],
   "source": [
    "train_generator.class_indices\n"
   ]
  },
  {
   "cell_type": "code",
   "execution_count": 64,
   "id": "89bf8f71-2c79-42a9-8f28-8a31a1c8bac5",
   "metadata": {},
   "outputs": [
    {
     "data": {
      "text/plain": [
       "['Apple___Apple_scab',\n",
       " 'Apple___Black_rot',\n",
       " 'Apple___Cedar_apple_rust',\n",
       " 'Apple___healthy',\n",
       " 'Blueberry___healthy',\n",
       " 'Cherry_(including_sour)___Powdery_mildew',\n",
       " 'Cherry_(including_sour)___healthy',\n",
       " 'Corn_(maize)___Cercospora_leaf_spot Gray_leaf_spot',\n",
       " 'Corn_(maize)___Common_rust_',\n",
       " 'Corn_(maize)___Northern_Leaf_Blight',\n",
       " 'Corn_(maize)___healthy',\n",
       " 'Grape___Black_rot',\n",
       " 'Grape___Esca_(Black_Measles)',\n",
       " 'Grape___Leaf_blight_(Isariopsis_Leaf_Spot)',\n",
       " 'Grape___healthy',\n",
       " 'Orange___Haunglongbing_(Citrus_greening)',\n",
       " 'Peach___Bacterial_spot',\n",
       " 'Peach___healthy',\n",
       " 'Pepper,_bell___Bacterial_spot',\n",
       " 'Pepper,_bell___healthy',\n",
       " 'Potato___Early_blight',\n",
       " 'Potato___Late_blight',\n",
       " 'Potato___healthy',\n",
       " 'Raspberry___healthy',\n",
       " 'Soybean___healthy',\n",
       " 'Squash___Powdery_mildew',\n",
       " 'Strawberry___Leaf_scorch',\n",
       " 'Strawberry___healthy',\n",
       " 'Tomato___Bacterial_spot',\n",
       " 'Tomato___Early_blight',\n",
       " 'Tomato___Late_blight',\n",
       " 'Tomato___Leaf_Mold',\n",
       " 'Tomato___Septoria_leaf_spot',\n",
       " 'Tomato___Spider_mites Two-spotted_spider_mite',\n",
       " 'Tomato___Target_Spot',\n",
       " 'Tomato___Tomato_Yellow_Leaf_Curl_Virus',\n",
       " 'Tomato___Tomato_mosaic_virus',\n",
       " 'Tomato___healthy']"
      ]
     },
     "execution_count": 64,
     "metadata": {},
     "output_type": "execute_result"
    }
   ],
   "source": [
    "class_names = list(train_generator.class_indices.keys())\n",
    "class_names"
   ]
  },
  {
   "cell_type": "code",
   "execution_count": 65,
   "id": "4ea91126-8f99-48e6-8a23-93977aeab845",
   "metadata": {},
   "outputs": [
    {
     "name": "stdout",
     "output_type": "stream",
     "text": [
      "[[[5.8874577e-01 5.4560852e-01 5.3776538e-01]\n",
      "  [5.8826095e-01 5.4512370e-01 5.3728056e-01]\n",
      "  [5.8823532e-01 5.4509807e-01 5.3725493e-01]\n",
      "  ...\n",
      "  [4.0665746e-02 7.2502805e-04 1.3214763e-02]\n",
      "  [2.9648563e-02 0.0000000e+00 2.1975813e-03]\n",
      "  [2.7450982e-02 0.0000000e+00 0.0000000e+00]]\n",
      "\n",
      " [[5.9335357e-01 5.5021632e-01 5.4237318e-01]\n",
      "  [5.9601998e-01 5.5288273e-01 5.4503959e-01]\n",
      "  [5.9560430e-01 5.5246705e-01 5.4462391e-01]\n",
      "  ...\n",
      "  [4.0180936e-02 4.8262376e-04 1.2729954e-02]\n",
      "  [2.8921349e-02 0.0000000e+00 1.4703684e-03]\n",
      "  [2.7450982e-02 0.0000000e+00 0.0000000e+00]]\n",
      "\n",
      " [[5.5125970e-01 5.0812244e-01 5.0027925e-01]\n",
      "  [5.5296528e-01 5.0982803e-01 5.0198489e-01]\n",
      "  [5.5563164e-01 5.1249439e-01 5.0465125e-01]\n",
      "  ...\n",
      "  [3.9696127e-02 2.4021948e-04 1.2245146e-02]\n",
      "  [2.8194137e-02 0.0000000e+00 7.4315560e-04]\n",
      "  [2.7450982e-02 0.0000000e+00 0.0000000e+00]]\n",
      "\n",
      " ...\n",
      "\n",
      " [[4.4705886e-01 4.0000004e-01 4.0784317e-01]\n",
      "  [4.5806730e-01 4.1100848e-01 4.1885161e-01]\n",
      "  [4.6614751e-01 4.1908869e-01 4.2693183e-01]\n",
      "  ...\n",
      "  [4.9042132e-01 4.5120564e-01 4.4728407e-01]\n",
      "  [4.9066374e-01 4.5144805e-01 4.4752648e-01]\n",
      "  [4.9090615e-01 4.5169047e-01 4.4776890e-01]]\n",
      "\n",
      " [[4.4705886e-01 4.0000004e-01 4.0784317e-01]\n",
      "  [4.5879450e-01 4.1173568e-01 4.1957882e-01]\n",
      "  [4.6663231e-01 4.1957349e-01 4.2741662e-01]\n",
      "  ...\n",
      "  [4.8650724e-01 4.4729155e-01 4.5074770e-01]\n",
      "  [4.8674965e-01 4.4753397e-01 4.5050532e-01]\n",
      "  [4.8699206e-01 4.4777638e-01 4.5026290e-01]]\n",
      "\n",
      " [[4.4777951e-01 4.0072069e-01 4.0856382e-01]\n",
      "  [4.5928901e-01 4.1223019e-01 4.2007333e-01]\n",
      "  [4.6689191e-01 4.1983309e-01 4.2767623e-01]\n",
      "  ...\n",
      "  [4.8995587e-01 4.5074019e-01 4.5466176e-01]\n",
      "  [4.8971349e-01 4.5049781e-01 4.5441937e-01]\n",
      "  [4.8947108e-01 4.5025539e-01 4.5417696e-01]]]\n"
     ]
    }
   ],
   "source": [
    "count=0\n",
    "for image_batch, label_batch in train_generator:\n",
    "#     print(label_batch)\n",
    "    print(image_batch[0])\n",
    "    break\n",
    "#     count+=1\n",
    "#     if count>2:\n",
    "#         break"
   ]
  },
  {
   "cell_type": "code",
   "execution_count": 66,
   "id": "6a4651e1-907a-4f30-8b43-4ee7b24b5679",
   "metadata": {},
   "outputs": [
    {
     "name": "stdout",
     "output_type": "stream",
     "text": [
      "Found 17572 images belonging to 38 classes.\n"
     ]
    }
   ],
   "source": [
    "validation_datagen = ImageDataGenerator(\n",
    "        rescale=1./255,\n",
    "        rotation_range=10,\n",
    "        horizontal_flip=True)\n",
    "validation_generator = validation_datagen.flow_from_directory(\n",
    "        'Desktop/leafDetectionNew/finalDataset/New Plant Diseases Dataset(Augmented)/New Plant Diseases Dataset(Augmented)/valid',\n",
    "        target_size=(IMAGE_SIZE,IMAGE_SIZE),\n",
    "        batch_size=32,\n",
    "        class_mode=\"sparse\",\n",
    "    shuffle=False\n",
    ")"
   ]
  },
  {
   "cell_type": "code",
   "execution_count": 67,
   "id": "166d0fa4-498c-40fc-8169-b2faa648efb3",
   "metadata": {},
   "outputs": [
    {
     "name": "stdout",
     "output_type": "stream",
     "text": [
      "Found 17572 images belonging to 38 classes.\n"
     ]
    }
   ],
   "source": [
    "test_datagen = ImageDataGenerator(\n",
    "        rescale=1./255,\n",
    "        rotation_range=10,\n",
    "        horizontal_flip=True)\n",
    "\n",
    "test_generator = test_datagen.flow_from_directory(\n",
    "        'Desktop/leafDetectionNew/finalDataset/New Plant Diseases Dataset(Augmented)/New Plant Diseases Dataset(Augmented)/valid',\n",
    "        target_size=(IMAGE_SIZE,IMAGE_SIZE),\n",
    "        batch_size=32,\n",
    "        shuffle=False,\n",
    "        subset=None, \n",
    "        class_mode=\"sparse\",\n",
    "        seed=42\n",
    ")"
   ]
  },
  {
   "cell_type": "code",
   "execution_count": 68,
   "id": "a69c1b3e-1878-45e6-b2a6-fe20a546a267",
   "metadata": {},
   "outputs": [
    {
     "name": "stdout",
     "output_type": "stream",
     "text": [
      "[[[0.41078004 0.37156433 0.50783455]\n",
      "  [0.4234972  0.38428152 0.5215364 ]\n",
      "  [0.40987486 0.37065917 0.5137728 ]\n",
      "  ...\n",
      "  [0.6571522  0.6414659  0.77087766]\n",
      "  [0.65732384 0.64163756 0.7710493 ]\n",
      "  [0.6574955  0.6418092  0.77122104]]\n",
      "\n",
      " [[0.41060835 0.37139267 0.5074912 ]\n",
      "  [0.42281047 0.38359478 0.5208497 ]\n",
      "  [0.41090494 0.37168926 0.5144595 ]\n",
      "  ...\n",
      "  [0.66107    0.6453837  0.7747955 ]\n",
      "  [0.66124165 0.6455554  0.77496713]\n",
      "  [0.6614133  0.64572704 0.7751388 ]]\n",
      "\n",
      " [[0.4104367  0.37122098 0.50714785]\n",
      "  [0.42212373 0.38290805 0.52016294]\n",
      "  [0.41193506 0.37271938 0.51514626]\n",
      "  ...\n",
      "  [0.66498774 0.64930147 0.7787133 ]\n",
      "  [0.66515946 0.6494732  0.77888495]\n",
      "  [0.6653311  0.64964485 0.7790566 ]]\n",
      "\n",
      " ...\n",
      "\n",
      " [[0.03429439 0.         0.04998067]\n",
      "  [0.03412271 0.         0.04980898]\n",
      "  [0.03395102 0.         0.0496373 ]\n",
      "  ...\n",
      "  [0.72156864 0.70980394 0.8313726 ]\n",
      "  [0.72156864 0.70980394 0.8313726 ]\n",
      "  [0.7232476  0.7114829  0.83305156]]\n",
      "\n",
      " [[0.03137255 0.         0.04705883]\n",
      "  [0.03137255 0.         0.04705883]\n",
      "  [0.03137255 0.         0.04705883]\n",
      "  ...\n",
      "  [0.72156864 0.70980394 0.8313726 ]\n",
      "  [0.72156864 0.70980394 0.8313726 ]\n",
      "  [0.7230759  0.7113112  0.83287984]]\n",
      "\n",
      " [[0.03137255 0.         0.04705883]\n",
      "  [0.03137255 0.         0.04705883]\n",
      "  [0.03137255 0.         0.04705883]\n",
      "  ...\n",
      "  [0.72156864 0.70980394 0.8313726 ]\n",
      "  [0.72156864 0.70980394 0.8313726 ]\n",
      "  [0.72290426 0.71113956 0.8327082 ]]]\n"
     ]
    }
   ],
   "source": [
    "for image_batch, label_batch in test_generator:\n",
    "    print(image_batch[0])\n",
    "    break"
   ]
  },
  {
   "cell_type": "code",
   "execution_count": 69,
   "id": "cc1c9927-5065-4e5e-ad90-9378b650faab",
   "metadata": {},
   "outputs": [],
   "source": [
    "input_shape = (IMAGE_SIZE, IMAGE_SIZE, CHANNELS)\n",
    "n_classes = 38\n",
    "\n",
    "model = models.Sequential([\n",
    "    layers.InputLayer(input_shape=input_shape),\n",
    "    layers.Conv2D(32, kernel_size = (3,3), activation='relu'),\n",
    "    layers.MaxPooling2D((2, 2)),\n",
    "    layers.Conv2D(64,  kernel_size = (3,3), activation='relu'),\n",
    "    layers.MaxPooling2D((2, 2)),\n",
    "    layers.Conv2D(64,  kernel_size = (3,3), activation='relu'),\n",
    "    layers.MaxPooling2D((2, 2)),\n",
    "    layers.Conv2D(64, (3, 3), activation='relu'),\n",
    "    layers.MaxPooling2D((2, 2)),\n",
    "    layers.Conv2D(64, (3, 3), activation='relu'),\n",
    "    layers.MaxPooling2D((2, 2)),\n",
    "    layers.Conv2D(64, (3, 3), activation='relu'),\n",
    "    layers.MaxPooling2D((2, 2)),\n",
    "    layers.Flatten(),\n",
    "    layers.Dense(64, activation='relu'),\n",
    "    layers.Dense(n_classes, activation='softmax'),\n",
    "])"
   ]
  },
  {
   "cell_type": "code",
   "execution_count": 70,
   "id": "d473dd39-7ac2-4e64-bff4-fd1d450f09d6",
   "metadata": {},
   "outputs": [
    {
     "name": "stdout",
     "output_type": "stream",
     "text": [
      "Model: \"sequential_2\"\n",
      "_________________________________________________________________\n",
      " Layer (type)                Output Shape              Param #   \n",
      "=================================================================\n",
      " conv2d_12 (Conv2D)          (None, 254, 254, 32)      896       \n",
      "                                                                 \n",
      " max_pooling2d_12 (MaxPoolin  (None, 127, 127, 32)     0         \n",
      " g2D)                                                            \n",
      "                                                                 \n",
      " conv2d_13 (Conv2D)          (None, 125, 125, 64)      18496     \n",
      "                                                                 \n",
      " max_pooling2d_13 (MaxPoolin  (None, 62, 62, 64)       0         \n",
      " g2D)                                                            \n",
      "                                                                 \n",
      " conv2d_14 (Conv2D)          (None, 60, 60, 64)        36928     \n",
      "                                                                 \n",
      " max_pooling2d_14 (MaxPoolin  (None, 30, 30, 64)       0         \n",
      " g2D)                                                            \n",
      "                                                                 \n",
      " conv2d_15 (Conv2D)          (None, 28, 28, 64)        36928     \n",
      "                                                                 \n",
      " max_pooling2d_15 (MaxPoolin  (None, 14, 14, 64)       0         \n",
      " g2D)                                                            \n",
      "                                                                 \n",
      " conv2d_16 (Conv2D)          (None, 12, 12, 64)        36928     \n",
      "                                                                 \n",
      " max_pooling2d_16 (MaxPoolin  (None, 6, 6, 64)         0         \n",
      " g2D)                                                            \n",
      "                                                                 \n",
      " conv2d_17 (Conv2D)          (None, 4, 4, 64)          36928     \n",
      "                                                                 \n",
      " max_pooling2d_17 (MaxPoolin  (None, 2, 2, 64)         0         \n",
      " g2D)                                                            \n",
      "                                                                 \n",
      " flatten_2 (Flatten)         (None, 256)               0         \n",
      "                                                                 \n",
      " dense_4 (Dense)             (None, 64)                16448     \n",
      "                                                                 \n",
      " dense_5 (Dense)             (None, 38)                2470      \n",
      "                                                                 \n",
      "=================================================================\n",
      "Total params: 186,022\n",
      "Trainable params: 186,022\n",
      "Non-trainable params: 0\n",
      "_________________________________________________________________\n"
     ]
    }
   ],
   "source": [
    "model.summary()\n"
   ]
  },
  {
   "cell_type": "code",
   "execution_count": 71,
   "id": "1497b62f-dd21-4006-a75d-cb0c9ee77057",
   "metadata": {},
   "outputs": [],
   "source": [
    "model.compile(\n",
    "    optimizer='adam',\n",
    "    loss=tf.keras.losses.SparseCategoricalCrossentropy(from_logits=False),\n",
    "    metrics=['accuracy']\n",
    ")"
   ]
  },
  {
   "cell_type": "code",
   "execution_count": 72,
   "id": "5e8bd82f-3023-4663-947c-95988200e399",
   "metadata": {},
   "outputs": [
    {
     "name": "stdout",
     "output_type": "stream",
     "text": [
      "Epoch 1/50\n",
      "2196/2196 [==============================] - 1220s 555ms/step - loss: 2.1746 - accuracy: 0.3739 - val_loss: 1.6833 - val_accuracy: 0.4932\n",
      "Epoch 2/50\n",
      "2196/2196 [==============================] - 939s 428ms/step - loss: 1.6958 - accuracy: 0.5006 - val_loss: 3.6520 - val_accuracy: 0.0432\n",
      "Epoch 3/50\n",
      "2196/2196 [==============================] - 820s 373ms/step - loss: 1.9519 - accuracy: 0.4332 - val_loss: 1.5127 - val_accuracy: 0.5397\n",
      "Epoch 4/50\n",
      "2196/2196 [==============================] - 825s 375ms/step - loss: 1.7879 - accuracy: 0.4700 - val_loss: 1.8958 - val_accuracy: 0.4299\n",
      "Epoch 5/50\n",
      "2196/2196 [==============================] - 801s 365ms/step - loss: 1.5582 - accuracy: 0.5273 - val_loss: 1.3222 - val_accuracy: 0.5965\n",
      "Epoch 6/50\n",
      "2196/2196 [==============================] - 820s 373ms/step - loss: 1.0022 - accuracy: 0.6856 - val_loss: 0.8066 - val_accuracy: 0.7436\n",
      "Epoch 7/50\n",
      "2196/2196 [==============================] - 825s 376ms/step - loss: 0.7334 - accuracy: 0.7650 - val_loss: 0.6513 - val_accuracy: 0.7928\n",
      "Epoch 8/50\n",
      "2196/2196 [==============================] - 815s 371ms/step - loss: 0.6112 - accuracy: 0.8010 - val_loss: 0.5422 - val_accuracy: 0.8217\n",
      "Epoch 9/50\n",
      "2196/2196 [==============================] - 821s 374ms/step - loss: 0.5344 - accuracy: 0.8252 - val_loss: 0.5005 - val_accuracy: 0.8361\n",
      "Epoch 10/50\n",
      "2196/2196 [==============================] - 817s 372ms/step - loss: 0.4714 - accuracy: 0.8453 - val_loss: 0.6454 - val_accuracy: 0.7913\n",
      "Epoch 11/50\n",
      "2196/2196 [==============================] - 818s 373ms/step - loss: 0.4288 - accuracy: 0.8589 - val_loss: 0.4235 - val_accuracy: 0.8595\n",
      "Epoch 12/50\n",
      "2196/2196 [==============================] - 816s 371ms/step - loss: 0.3901 - accuracy: 0.8708 - val_loss: 0.4346 - val_accuracy: 0.8574\n",
      "Epoch 13/50\n",
      "2196/2196 [==============================] - 822s 374ms/step - loss: 0.3557 - accuracy: 0.8827 - val_loss: 0.4653 - val_accuracy: 0.8519\n",
      "Epoch 14/50\n",
      "2196/2196 [==============================] - 821s 374ms/step - loss: 0.3297 - accuracy: 0.8893 - val_loss: 0.3427 - val_accuracy: 0.8893\n",
      "Epoch 15/50\n",
      "2196/2196 [==============================] - 823s 375ms/step - loss: 0.3056 - accuracy: 0.8982 - val_loss: 0.3778 - val_accuracy: 0.8768\n",
      "Epoch 16/50\n",
      "2196/2196 [==============================] - 821s 374ms/step - loss: 0.2879 - accuracy: 0.9044 - val_loss: 0.2917 - val_accuracy: 0.9039\n",
      "Epoch 17/50\n",
      "2196/2196 [==============================] - 820s 374ms/step - loss: 0.2700 - accuracy: 0.9094 - val_loss: 0.3654 - val_accuracy: 0.8845\n",
      "Epoch 18/50\n",
      "2196/2196 [==============================] - 820s 373ms/step - loss: 0.2582 - accuracy: 0.9131 - val_loss: 0.3749 - val_accuracy: 0.8792\n",
      "Epoch 19/50\n",
      "2196/2196 [==============================] - 816s 371ms/step - loss: 0.2476 - accuracy: 0.9171 - val_loss: 0.3002 - val_accuracy: 0.9072\n",
      "Epoch 20/50\n",
      "2196/2196 [==============================] - 804s 366ms/step - loss: 0.2347 - accuracy: 0.9217 - val_loss: 0.3449 - val_accuracy: 0.8873\n",
      "Epoch 21/50\n",
      "2196/2196 [==============================] - 813s 370ms/step - loss: 0.2162 - accuracy: 0.9271 - val_loss: 0.3668 - val_accuracy: 0.8850\n",
      "Epoch 22/50\n",
      "2196/2196 [==============================] - 819s 373ms/step - loss: 0.2057 - accuracy: 0.9305 - val_loss: 0.2278 - val_accuracy: 0.9259\n",
      "Epoch 23/50\n",
      "2196/2196 [==============================] - 822s 374ms/step - loss: 0.1995 - accuracy: 0.9325 - val_loss: 0.2661 - val_accuracy: 0.9162\n",
      "Epoch 24/50\n",
      "2196/2196 [==============================] - 820s 373ms/step - loss: 0.1871 - accuracy: 0.9381 - val_loss: 0.2369 - val_accuracy: 0.9242\n",
      "Epoch 25/50\n",
      "2196/2196 [==============================] - 815s 371ms/step - loss: 0.1828 - accuracy: 0.9390 - val_loss: 0.2537 - val_accuracy: 0.9231\n",
      "Epoch 26/50\n",
      "2196/2196 [==============================] - 807s 367ms/step - loss: 0.1739 - accuracy: 0.9413 - val_loss: 0.2633 - val_accuracy: 0.9175\n",
      "Epoch 27/50\n",
      "2196/2196 [==============================] - 819s 373ms/step - loss: 0.1721 - accuracy: 0.9429 - val_loss: 0.2272 - val_accuracy: 0.9275\n",
      "Epoch 28/50\n",
      "2196/2196 [==============================] - 822s 374ms/step - loss: 0.1583 - accuracy: 0.9468 - val_loss: 0.2288 - val_accuracy: 0.9281\n",
      "Epoch 29/50\n",
      "2196/2196 [==============================] - 813s 370ms/step - loss: 0.1627 - accuracy: 0.9456 - val_loss: 0.2495 - val_accuracy: 0.9220\n",
      "Epoch 30/50\n",
      "2196/2196 [==============================] - 829s 378ms/step - loss: 0.1521 - accuracy: 0.9487 - val_loss: 0.1928 - val_accuracy: 0.9393\n",
      "Epoch 31/50\n",
      "2196/2196 [==============================] - 827s 377ms/step - loss: 0.1491 - accuracy: 0.9499 - val_loss: 0.1978 - val_accuracy: 0.9380\n",
      "Epoch 32/50\n",
      "2196/2196 [==============================] - 823s 375ms/step - loss: 0.1503 - accuracy: 0.9506 - val_loss: 0.1550 - val_accuracy: 0.9516\n",
      "Epoch 33/50\n",
      "2196/2196 [==============================] - 822s 374ms/step - loss: 0.1410 - accuracy: 0.9529 - val_loss: 0.2693 - val_accuracy: 0.9175\n",
      "Epoch 34/50\n",
      "2196/2196 [==============================] - 832s 379ms/step - loss: 0.1420 - accuracy: 0.9534 - val_loss: 0.2140 - val_accuracy: 0.9316\n",
      "Epoch 35/50\n",
      "2196/2196 [==============================] - 825s 376ms/step - loss: 0.1358 - accuracy: 0.9542 - val_loss: 0.1932 - val_accuracy: 0.9414\n",
      "Epoch 36/50\n",
      "2196/2196 [==============================] - 829s 378ms/step - loss: 0.1309 - accuracy: 0.9566 - val_loss: 0.2594 - val_accuracy: 0.9233\n",
      "Epoch 37/50\n",
      "2196/2196 [==============================] - 831s 378ms/step - loss: 0.1289 - accuracy: 0.9566 - val_loss: 0.1776 - val_accuracy: 0.9434\n",
      "Epoch 38/50\n",
      "2196/2196 [==============================] - 830s 378ms/step - loss: 0.1299 - accuracy: 0.9566 - val_loss: 0.1926 - val_accuracy: 0.9419\n",
      "Epoch 39/50\n",
      "2196/2196 [==============================] - 833s 379ms/step - loss: 0.1254 - accuracy: 0.9583 - val_loss: 0.1980 - val_accuracy: 0.9381\n",
      "Epoch 40/50\n",
      "2196/2196 [==============================] - 832s 379ms/step - loss: 0.1270 - accuracy: 0.9573 - val_loss: 0.2428 - val_accuracy: 0.9259\n",
      "Epoch 41/50\n",
      "2196/2196 [==============================] - 834s 380ms/step - loss: 0.1255 - accuracy: 0.9580 - val_loss: 0.1611 - val_accuracy: 0.9491\n",
      "Epoch 42/50\n",
      "2196/2196 [==============================] - 840s 382ms/step - loss: 0.1203 - accuracy: 0.9595 - val_loss: 0.1517 - val_accuracy: 0.9538\n",
      "Epoch 43/50\n",
      "2196/2196 [==============================] - 834s 380ms/step - loss: 0.1220 - accuracy: 0.9590 - val_loss: 0.1725 - val_accuracy: 0.9469\n",
      "Epoch 44/50\n",
      "2196/2196 [==============================] - 837s 381ms/step - loss: 0.1216 - accuracy: 0.9606 - val_loss: 0.1754 - val_accuracy: 0.9466\n",
      "Epoch 45/50\n",
      "2196/2196 [==============================] - 842s 383ms/step - loss: 0.1147 - accuracy: 0.9616 - val_loss: 0.2240 - val_accuracy: 0.9390\n",
      "Epoch 46/50\n",
      "2196/2196 [==============================] - 841s 383ms/step - loss: 0.1185 - accuracy: 0.9610 - val_loss: 0.1996 - val_accuracy: 0.9421\n",
      "Epoch 47/50\n",
      "2196/2196 [==============================] - 836s 381ms/step - loss: 0.1168 - accuracy: 0.9610 - val_loss: 0.1497 - val_accuracy: 0.9534\n",
      "Epoch 48/50\n",
      "2196/2196 [==============================] - 837s 381ms/step - loss: 0.1126 - accuracy: 0.9630 - val_loss: 0.1919 - val_accuracy: 0.9420\n",
      "Epoch 49/50\n",
      "2196/2196 [==============================] - 828s 377ms/step - loss: 0.1151 - accuracy: 0.9622 - val_loss: 0.1445 - val_accuracy: 0.9559\n",
      "Epoch 50/50\n",
      "2196/2196 [==============================] - 849s 387ms/step - loss: 0.1103 - accuracy: 0.9632 - val_loss: 0.1657 - val_accuracy: 0.9484\n"
     ]
    }
   ],
   "source": [
    "history = model.fit(\n",
    "    train_generator,\n",
    "    batch_size=32,\n",
    "    steps_per_epoch=2196,\n",
    "    validation_data=validation_generator,\n",
    "    validation_steps=549,\n",
    "    verbose=1,\n",
    "    epochs=50,\n",
    ")"
   ]
  },
  {
   "cell_type": "code",
   "execution_count": 73,
   "id": "e638f71a-b704-4b8a-8ded-cbd810c6c9ea",
   "metadata": {},
   "outputs": [
    {
     "data": {
      "text/plain": [
       "{'verbose': 1, 'epochs': 50, 'steps': 2196}"
      ]
     },
     "execution_count": 73,
     "metadata": {},
     "output_type": "execute_result"
    }
   ],
   "source": [
    " history.params"
   ]
  },
  {
   "cell_type": "code",
   "execution_count": 75,
   "id": "99961a4f-b800-41dc-9a71-bccb5086c955",
   "metadata": {},
   "outputs": [
    {
     "name": "stdout",
     "output_type": "stream",
     "text": [
      "550/550 [==============================] - 158s 287ms/step - loss: 0.1670 - accuracy: 0.9494\n",
      "[0.167012557387352, 0.9494081735610962]\n"
     ]
    }
   ],
   "source": [
    "scores = model.evaluate(test_generator)\n",
    "print(scores)"
   ]
  },
  {
   "cell_type": "code",
   "execution_count": 76,
   "id": "55b8e7d1-79af-4e7b-abc8-6a9d382bcdac",
   "metadata": {},
   "outputs": [
    {
     "name": "stdout",
     "output_type": "stream",
     "text": [
      "Test Accuracy: 94.94%\n"
     ]
    }
   ],
   "source": [
    "print(f\"Test Accuracy: {round(scores[1],4)*100}%\")"
   ]
  },
  {
   "cell_type": "code",
   "execution_count": 78,
   "id": "1c692b73-b1e9-4a73-b2a2-567dc1b347f8",
   "metadata": {},
   "outputs": [
    {
     "data": {
      "image/png": "[encoded data removed]",
      "text/plain": [
       "<Figure size 800x800 with 2 Axes>"
      ]
     },
     "metadata": {},
     "output_type": "display_data"
    }
   ],
   "source": [
    "acc = history.history['accuracy']\n",
    "val_acc = history.history['val_accuracy']\n",
    "\n",
    "loss = history.history['loss']\n",
    "val_loss = history.history['val_loss']\n",
    "\n",
    "epochs_range = range(50)\n",
    "\n",
    "plt.figure(figsize=(8, 8))\n",
    "plt.subplot(1, 2, 1)\n",
    "plt.plot(epochs_range, acc, label='Training Accuracy')\n",
    "plt.plot(epochs_range, val_acc, label='Validation Accuracy')\n",
    "plt.legend(loc='lower right')\n",
    "plt.title('Training and Validation Accuracy')\n",
    "\n",
    "plt.subplot(1, 2, 2)\n",
    "plt.plot(epochs_range, loss, label='Training Loss')\n",
    "plt.plot(epochs_range, val_loss, label='Validation Loss')\n",
    "plt.legend(loc='upper right')\n",
    "plt.title('Training and Validation Loss')\n",
    "plt.show()"
   ]
  },
  {
   "cell_type": "code",
   "execution_count": null,
   "id": "1cae4164-9945-4dd9-9f45-730affe408a3",
   "metadata": {},
   "outputs": [],
   "source": [
    "model.save(\"Desktop/models\")"
   ]
  },
  {
   "cell_type": "code",
   "execution_count": null,
   "id": "d5cf0868-a527-45e4-ae2d-a789d19198aa",
   "metadata": {},
   "outputs": [],
   "source": [
    "import os\n",
    "model_version = max([int(i) for i in (os.listdir(\"Desktop/models\")+[0])]) + 1\n",
    "model.save(f\"Desktop/leafDetectionNew/leaf-detection-backend/models/{model_version}\")"
   ]
  }
 ],
 "metadata": {
  "kernelspec": {
   "display_name": "Python 3 (ipykernel)",
   "language": "python",
   "name": "python3"
  },
  "language_info": {
   "codemirror_mode": {
    "name": "ipython",
    "version": 3
   },
   "file_extension": ".py",
   "mimetype": "text/x-python",
   "name": "python",
   "nbconvert_exporter": "python",
   "pygments_lexer": "ipython3",
   "version": "3.10.13"
  }
 },
 "nbformat": 4,
 "nbformat_minor": 5
}
